{
 "cells": [
  {
   "attachments": {},
   "cell_type": "markdown",
   "id": "ce948ce1",
   "metadata": {},
   "source": [
    "# KNN 1"
   ]
  },
  {
   "cell_type": "code",
   "execution_count": 1,
   "id": "38723694",
   "metadata": {},
   "outputs": [],
   "source": [
    "import pandas as pd\n",
    "import numpy as np\n",
    "from scipy.spatial.distance import cosine\n",
    "import operator\n",
    "\n",
    "import warnings\n",
    "warnings.filterwarnings(\"ignore\")"
   ]
  },
  {
   "cell_type": "code",
   "execution_count": 2,
   "id": "c5a652e3",
   "metadata": {
    "scrolled": true
   },
   "outputs": [
    {
     "data": {
      "text/html": [
       "<div>\n",
       "<style scoped>\n",
       "    .dataframe tbody tr th:only-of-type {\n",
       "        vertical-align: middle;\n",
       "    }\n",
       "\n",
       "    .dataframe tbody tr th {\n",
       "        vertical-align: top;\n",
       "    }\n",
       "\n",
       "    .dataframe thead th {\n",
       "        text-align: right;\n",
       "    }\n",
       "</style>\n",
       "<table border=\"1\" class=\"dataframe\">\n",
       "  <thead>\n",
       "    <tr style=\"text-align: right;\">\n",
       "      <th></th>\n",
       "      <th>user_id</th>\n",
       "      <th>movie_id</th>\n",
       "      <th>rating</th>\n",
       "    </tr>\n",
       "  </thead>\n",
       "  <tbody>\n",
       "    <tr>\n",
       "      <th>0</th>\n",
       "      <td>0</td>\n",
       "      <td>50</td>\n",
       "      <td>5</td>\n",
       "    </tr>\n",
       "    <tr>\n",
       "      <th>1</th>\n",
       "      <td>0</td>\n",
       "      <td>172</td>\n",
       "      <td>5</td>\n",
       "    </tr>\n",
       "    <tr>\n",
       "      <th>2</th>\n",
       "      <td>0</td>\n",
       "      <td>133</td>\n",
       "      <td>1</td>\n",
       "    </tr>\n",
       "    <tr>\n",
       "      <th>3</th>\n",
       "      <td>196</td>\n",
       "      <td>242</td>\n",
       "      <td>3</td>\n",
       "    </tr>\n",
       "    <tr>\n",
       "      <th>4</th>\n",
       "      <td>186</td>\n",
       "      <td>302</td>\n",
       "      <td>3</td>\n",
       "    </tr>\n",
       "  </tbody>\n",
       "</table>\n",
       "</div>"
      ],
      "text/plain": [
       "   user_id  movie_id  rating\n",
       "0        0        50       5\n",
       "1        0       172       5\n",
       "2        0       133       1\n",
       "3      196       242       3\n",
       "4      186       302       3"
      ]
     },
     "execution_count": 2,
     "metadata": {},
     "output_type": "execute_result"
    }
   ],
   "source": [
    "Rcols = ['user_id', 'movie_id', 'rating']\n",
    "Ratings = pd.read_csv(r\"D:\\Machine learning\\Workbook\\KNN\\KNearest Neighbours\\u.data\", sep='\\t', names=Rcols, usecols=range(3))\n",
    "Ratings.head()"
   ]
  },
  {
   "attachments": {},
   "cell_type": "markdown",
   "id": "5c354c11",
   "metadata": {},
   "source": [
    "Now, we'll group everything by movie ID, and compute the total number of ratings (each movie's popularity) and the average rating for every movie"
   ]
  },
  {
   "cell_type": "code",
   "execution_count": 3,
   "id": "829016cd",
   "metadata": {
    "scrolled": false
   },
   "outputs": [
    {
     "data": {
      "text/html": [
       "<div>\n",
       "<style scoped>\n",
       "    .dataframe tbody tr th:only-of-type {\n",
       "        vertical-align: middle;\n",
       "    }\n",
       "\n",
       "    .dataframe tbody tr th {\n",
       "        vertical-align: top;\n",
       "    }\n",
       "\n",
       "    .dataframe thead th {\n",
       "        text-align: right;\n",
       "    }\n",
       "</style>\n",
       "<table border=\"1\" class=\"dataframe\">\n",
       "  <thead>\n",
       "    <tr style=\"text-align: right;\">\n",
       "      <th></th>\n",
       "      <th>size</th>\n",
       "      <th>mean</th>\n",
       "    </tr>\n",
       "    <tr>\n",
       "      <th>movie_id</th>\n",
       "      <th></th>\n",
       "      <th></th>\n",
       "    </tr>\n",
       "  </thead>\n",
       "  <tbody>\n",
       "    <tr>\n",
       "      <th>1</th>\n",
       "      <td>452</td>\n",
       "      <td>3.878319</td>\n",
       "    </tr>\n",
       "    <tr>\n",
       "      <th>2</th>\n",
       "      <td>131</td>\n",
       "      <td>3.206107</td>\n",
       "    </tr>\n",
       "    <tr>\n",
       "      <th>3</th>\n",
       "      <td>90</td>\n",
       "      <td>3.033333</td>\n",
       "    </tr>\n",
       "    <tr>\n",
       "      <th>4</th>\n",
       "      <td>209</td>\n",
       "      <td>3.550239</td>\n",
       "    </tr>\n",
       "    <tr>\n",
       "      <th>5</th>\n",
       "      <td>86</td>\n",
       "      <td>3.302326</td>\n",
       "    </tr>\n",
       "  </tbody>\n",
       "</table>\n",
       "</div>"
      ],
      "text/plain": [
       "          size      mean\n",
       "movie_id                \n",
       "1          452  3.878319\n",
       "2          131  3.206107\n",
       "3           90  3.033333\n",
       "4          209  3.550239\n",
       "5           86  3.302326"
      ]
     },
     "execution_count": 3,
     "metadata": {},
     "output_type": "execute_result"
    }
   ],
   "source": [
    "movieProperties = Ratings.groupby('movie_id').agg(size=('rating', 'size'), mean=('rating', 'mean'))\n",
    "movieProperties.head()"
   ]
  },
  {
   "attachments": {},
   "cell_type": "markdown",
   "id": "3a9158f5",
   "metadata": {},
   "source": [
    "The raw number of ratings isn't very useful for computing distances between movies, so we'll create a new DataFrame that contains the normalized number of ratings. So, a value of 0 means nobody rated it, and a value of 1 will mean it's the most popular movie there is."
   ]
  },
  {
   "cell_type": "code",
   "execution_count": 4,
   "id": "189f66c6",
   "metadata": {},
   "outputs": [
    {
     "data": {
      "text/plain": [
       "movie_id\n",
       "1    0.773585\n",
       "2    0.222985\n",
       "3    0.152659\n",
       "4    0.356775\n",
       "5    0.145798\n",
       "Name: size, dtype: float64"
      ]
     },
     "execution_count": 4,
     "metadata": {},
     "output_type": "execute_result"
    }
   ],
   "source": [
    "movieNormalizedNumRatings = (movieProperties['size'] - movieProperties['size'].min()) / (movieProperties['size'].max() - movieProperties['size'].min())\n",
    "movieNormalizedNumRatings.head()"
   ]
  },
  {
   "attachments": {},
   "cell_type": "markdown",
   "id": "73a9a5b4",
   "metadata": {},
   "source": [
    "Now, let's get the genre information from the u.item file. The way this works is there are 19 fields, each corresponding to a specific genre - a value of '0' means it is not in that genre, and '1' means it is in that genre. A movie may have more than one genre associated with it.\n",
    "\n",
    "While we're at it, we'll put together everything into one big Python dictionary called movieDict. Each entry will contain the movie name, list of genre values, the normalized popularity score, and the average rating for each movie:"
   ]
  },
  {
   "cell_type": "code",
   "execution_count": 5,
   "id": "e3b0e25b",
   "metadata": {},
   "outputs": [],
   "source": [
    "movieDict = {}\n",
    "with open(r\"D:\\Machine learning\\Workbook\\KNN\\KNearest Neighbours\\u.item\") as f:\n",
    "    for line in f:\n",
    "        fields = line.strip().split('|')\n",
    "        movieID = int(fields[0])\n",
    "        name = fields[1]\n",
    "        genres = np.array(list(map(int, fields[5:25])))\n",
    "        size = movieNormalizedNumRatings.loc[movieID]\n",
    "        mean_rating = movieProperties.loc[movieID, 'mean']\n",
    "        movieDict[movieID] = (name, genres, size, mean_rating)"
   ]
  },
  {
   "cell_type": "code",
   "execution_count": 6,
   "id": "a1051238",
   "metadata": {},
   "outputs": [
    {
     "name": "stdout",
     "output_type": "stream",
     "text": [
      "[(1, ('Toy Story (1995)', array([0, 0, 0, 1, 1, 1, 0, 0, 0, 0, 0, 0, 0, 0, 0, 0, 0, 0, 0]), 0.7735849056603774, 3.8783185840707963)), (2, ('GoldenEye (1995)', array([0, 1, 1, 0, 0, 0, 0, 0, 0, 0, 0, 0, 0, 0, 0, 0, 1, 0, 0]), 0.22298456260720412, 3.2061068702290076)), (3, ('Four Rooms (1995)', array([0, 0, 0, 0, 0, 0, 0, 0, 0, 0, 0, 0, 0, 0, 0, 0, 1, 0, 0]), 0.15265866209262435, 3.033333333333333)), (4, ('Get Shorty (1995)', array([0, 1, 0, 0, 0, 1, 0, 0, 1, 0, 0, 0, 0, 0, 0, 0, 0, 0, 0]), 0.3567753001715266, 3.550239234449761)), (5, ('Copycat (1995)', array([0, 0, 0, 0, 0, 0, 1, 0, 1, 0, 0, 0, 0, 0, 0, 0, 1, 0, 0]), 0.1457975986277873, 3.302325581395349))]\n"
     ]
    }
   ],
   "source": [
    "print(list(movieDict.items())[:5])"
   ]
  },
  {
   "attachments": {},
   "cell_type": "markdown",
   "id": "2ed763f5",
   "metadata": {},
   "source": [
    "Now let's define a function that computes the \"distance\" between two movies based on how similar their genres are, and how similar their popularity is. Just to make sure it works, we'll compute the distance between movie ID's 2 and 4:"
   ]
  },
  {
   "cell_type": "code",
   "execution_count": 7,
   "id": "7bda18a5",
   "metadata": {},
   "outputs": [
    {
     "data": {
      "text/plain": [
       "('Legends of the Fall (1994)',\n",
       " array([0, 0, 0, 0, 0, 0, 0, 0, 1, 0, 0, 0, 0, 0, 1, 0, 0, 1, 1]),\n",
       " 0.137221269296741,\n",
       " 3.45679012345679)"
      ]
     },
     "execution_count": 7,
     "metadata": {},
     "output_type": "execute_result"
    }
   ],
   "source": [
    "movieDict[51]"
   ]
  },
  {
   "cell_type": "code",
   "execution_count": 8,
   "id": "5c30afc1",
   "metadata": {},
   "outputs": [
    {
     "data": {
      "text/plain": [
       "('Natural Born Killers (1994)',\n",
       " array([0, 1, 0, 0, 0, 0, 0, 0, 0, 0, 0, 0, 0, 0, 0, 0, 1, 0, 0]),\n",
       " 0.21783876500857632,\n",
       " 2.953125)"
      ]
     },
     "execution_count": 8,
     "metadata": {},
     "output_type": "execute_result"
    }
   ],
   "source": [
    "movieDict[53]"
   ]
  },
  {
   "cell_type": "code",
   "execution_count": 9,
   "id": "c702f016",
   "metadata": {},
   "outputs": [],
   "source": [
    "# Function to compute the distance between two movies and return the individual distances as well\n",
    "def compute_distance(movie_a, movie_b):\n",
    "    genre_distance = cosine(movie_a[1], movie_b[1])\n",
    "    popularity_distance = abs(movie_a[2] - movie_b[2])\n",
    "    total_distance = genre_distance + popularity_distance\n",
    "    return total_distance, genre_distance, popularity_distance"
   ]
  },
  {
   "cell_type": "code",
   "execution_count": 10,
   "id": "b5e3d3c1",
   "metadata": {},
   "outputs": [
    {
     "name": "stdout",
     "output_type": "stream",
     "text": [
      "Total Distance: 1.0806174957118353\n",
      "Genre Distance: 1.0\n",
      "Popularity Distance: 0.08061749571183532\n"
     ]
    }
   ],
   "source": [
    "# Compute the distance between two specific movies\n",
    "total_distance, genre_distance, popularity_distance = compute_distance(movieDict[53], movieDict[51])\n",
    "\n",
    "# Print the distances\n",
    "print(f\"Total Distance: {total_distance}\")\n",
    "print(f\"Genre Distance: {genre_distance}\")\n",
    "print(f\"Popularity Distance: {popularity_distance}\")"
   ]
  },
  {
   "cell_type": "code",
   "execution_count": 11,
   "id": "8b178b29",
   "metadata": {},
   "outputs": [
    {
     "name": "stdout",
     "output_type": "stream",
     "text": [
      "Liar Liar (1997) 3.156701030927835\n",
      "Aladdin (1992) 3.8127853881278537\n",
      "Willy Wonka and the Chocolate Factory (1971) 3.6319018404907975\n",
      "Monty Python and the Holy Grail (1974) 4.0664556962025316\n",
      "Full Monty, The (1997) 3.926984126984127\n"
     ]
    }
   ],
   "source": [
    "movie_id = int(input(\"Enter the movie ID: \"))\n",
    "\n",
    "# Function to get the nearest neighbors of a movie\n",
    "def get_neighbors(movie_id, k):\n",
    "    distances = []\n",
    "    for movie in movieDict:\n",
    "        if movie != movie_id:\n",
    "            dist = compute_distance(movieDict[movie_id], movieDict[movie])\n",
    "            distances.append((movie, dist))\n",
    "    distances.sort(key=operator.itemgetter(1))\n",
    "    \n",
    "    neighbors = []\n",
    "    for i in range(k):\n",
    "        neighbors.append(distances[i][0])\n",
    "    return neighbors\n",
    "\n",
    "# Compute the average rating of the K nearest neighbors\n",
    "K = 5\n",
    "neighbors = get_neighbors(movie_id, K)\n",
    "avg_rating = 0\n",
    "for neighbor in neighbors:\n",
    "    avg_rating += movieDict[neighbor][3]\n",
    "    print(f\"{movieDict[neighbor][0]} {movieDict[neighbor][3]}\")"
   ]
  }
 ],
 "metadata": {
  "kernelspec": {
   "display_name": "Python 3 (ipykernel)",
   "language": "python",
   "name": "python3"
  },
  "language_info": {
   "codemirror_mode": {
    "name": "ipython",
    "version": 3
   },
   "file_extension": ".py",
   "mimetype": "text/x-python",
   "name": "python",
   "nbconvert_exporter": "python",
   "pygments_lexer": "ipython3",
   "version": "3.12.2"
  }
 },
 "nbformat": 4,
 "nbformat_minor": 5
}
